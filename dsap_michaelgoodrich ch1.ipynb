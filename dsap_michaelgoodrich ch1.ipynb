{
 "cells": [
  {
   "cell_type": "code",
   "execution_count": 6,
   "metadata": {},
   "outputs": [
    {
     "name": "stdout",
     "output_type": "stream",
     "text": [
      "Enter a number8\n"
     ]
    },
    {
     "data": {
      "text/plain": [
       "True"
      ]
     },
     "execution_count": 6,
     "metadata": {},
     "output_type": "execute_result"
    }
   ],
   "source": [
    "def is_even(k):\n",
    "    if k%2==0:\n",
    "      return True \n",
    "    else:\n",
    "      return False\n",
    "k=int(input(\"Enter a number\"))    \n",
    "is_even(k)\n"
   ]
  },
  {
   "cell_type": "code",
   "execution_count": 42,
   "metadata": {},
   "outputs": [
    {
     "name": "stdout",
     "output_type": "stream",
     "text": [
      "Enter the number till which you want sum of the squares3\n",
      "5\n"
     ]
    }
   ],
   "source": [
    "def sumofsquares(n):\n",
    "    \n",
    "                    s=0\n",
    "                    for i in range(0,n):\n",
    "                                       s=s+i*i\n",
    "                    print(s)\n",
    "n=int(input(\"Enter the number till which you want sum of the squares\"))\n",
    "sumofsquares(n)"
   ]
  },
  {
   "cell_type": "code",
   "execution_count": 45,
   "metadata": {},
   "outputs": [
    {
     "name": "stdout",
     "output_type": "stream",
     "text": [
      "Enter the number till which you want sum of the squares of odd numbers3\n",
      "1\n"
     ]
    }
   ],
   "source": [
    "def sumofoddnnumbers(n):\n",
    "    s=0\n",
    "    for i in range(1,n):\n",
    "           if i & 1==1:\n",
    "            s=s+i*i\n",
    "    print(s)\n",
    "n=int(input(\"Enter the number till which you want sum of the squares of odd numbers\"))\n",
    "sumofoddnnumbers(n)"
   ]
  },
  {
   "cell_type": "code",
   "execution_count": 47,
   "metadata": {},
   "outputs": [
    {
     "name": "stdout",
     "output_type": "stream",
     "text": [
      "50\n",
      "60\n",
      "70\n",
      "80\n"
     ]
    }
   ],
   "source": [
    "for i in range(50,90,10):\n",
    "    print(i)\n",
    "                       "
   ]
  },
  {
   "cell_type": "code",
   "execution_count": 48,
   "metadata": {},
   "outputs": [
    {
     "name": "stdout",
     "output_type": "stream",
     "text": [
      "8\n",
      "6\n",
      "4\n",
      "2\n",
      "0\n",
      "-2\n",
      "-4\n",
      "-6\n",
      "-8\n"
     ]
    }
   ],
   "source": [
    "for i in range(8,-10,-2):\n",
    "    print(i)"
   ]
  },
  {
   "cell_type": "code",
   "execution_count": 54,
   "metadata": {},
   "outputs": [
    {
     "name": "stdout",
     "output_type": "stream",
     "text": [
      "[1, 2, 4, 8, 16, 32, 64, 128]\n"
     ]
    }
   ],
   "source": [
    "a=[2**k for k in range(0,k)]\n",
    "print(a)"
   ]
  },
  {
   "cell_type": "code",
   "execution_count": 12,
   "metadata": {},
   "outputs": [
    {
     "data": {
      "text/plain": [
       "[3, 6, 5]"
      ]
     },
     "execution_count": 12,
     "metadata": {},
     "output_type": "execute_result"
    }
   ],
   "source": [
    "some_list = [1, 2, 3, 6, 5, 1, 7, 3]\n",
    "some_list[2:-3]"
   ]
  },
  {
   "cell_type": "code",
   "execution_count": 16,
   "metadata": {},
   "outputs": [
    {
     "name": "stdout",
     "output_type": "stream",
     "text": [
      "list1 = [10, 'a']\n",
      "list2 = [123]\n",
      "list3 = [10, 'a']\n"
     ]
    }
   ],
   "source": [
    "def extendList(val, list=[]): \n",
    "    list.append(val) \n",
    "    return list\n",
    "list1 = extendList(10) \n",
    "list2 = extendList(123,[]) \n",
    "list3 = extendList('a')\n",
    "print(\"list1 = %s\" % list1) \n",
    "print(\"list2 = %s\" % list2) \n",
    "print(\"list3 = %s\" % list3)"
   ]
  },
  {
   "cell_type": "code",
   "execution_count": 17,
   "metadata": {},
   "outputs": [
    {
     "name": "stdout",
     "output_type": "stream",
     "text": [
      "['', 'b', 'cdaegakialaop']\n"
     ]
    }
   ],
   "source": [
    "some_string = \"abacdaegakialaop\" \n",
    "print(some_string.split('a', 2))\n"
   ]
  },
  {
   "cell_type": "code",
   "execution_count": 19,
   "metadata": {},
   "outputs": [
    {
     "name": "stdout",
     "output_type": "stream",
     "text": [
      "@ \r\n",
      "@ @ \r\n",
      "@ @ @ \r\n",
      "@ @ @ @ \r\n",
      "@ @ @ @ @ \r\n"
     ]
    }
   ],
   "source": [
    "def pattern(n): \n",
    "      \n",
    "     \n",
    "    for i in range(0, n): \n",
    "      \n",
    "        \n",
    "        for j in range(0, i+1): \n",
    "          \n",
    "            \n",
    "            print(\"@ \",end=\"\") \n",
    "       \n",
    "        \n",
    "        print(\"\\r\") \n",
    "  \n",
    "\n",
    "n = 5\n",
    "pattern(n) "
   ]
  },
  {
   "cell_type": "code",
   "execution_count": 20,
   "metadata": {},
   "outputs": [
    {
     "name": "stdout",
     "output_type": "stream",
     "text": [
      "[4, 3, 2, 1]\n"
     ]
    }
   ],
   "source": [
    "a = [1,2,3,4]\n",
    "a = a[::-1]\n",
    "print(a)"
   ]
  },
  {
   "cell_type": "code",
   "execution_count": 21,
   "metadata": {},
   "outputs": [
    {
     "name": "stdout",
     "output_type": "stream",
     "text": [
      "[4, 5, 9, 2, 1] True\n",
      "[1, 6, 4, 7, 8] True\n"
     ]
    }
   ],
   "source": [
    "def odd_product(nums):\n",
    "  for i in range(len(nums)):\n",
    "    for j in range(len(nums)):\n",
    "      if  i != j:\n",
    "        product = nums[i] * nums[j]\n",
    "        if product & 1:\n",
    "          return True\n",
    "          return False\n",
    "          \n",
    "dt1 = [4,5,9,2,1]\n",
    "dt2 = [1, 6, 4, 7, 8]\n",
    "print(dt1, odd_product(dt1));\n",
    "print(dt2, odd_product(dt2));"
   ]
  },
  {
   "cell_type": "code",
   "execution_count": 26,
   "metadata": {
    "scrolled": true
   },
   "outputs": [
    {
     "name": "stdout",
     "output_type": "stream",
     "text": [
      "True\n",
      "False\n"
     ]
    }
   ],
   "source": [
    "def test_distinct(data):\n",
    "  if len(data) == len(set(data)):\n",
    "    return True\n",
    "  else:\n",
    "    return False;\n",
    "print(test_distinct([1,5,7,9]))\n",
    "print(test_distinct([2,4,5,5,7,9]))"
   ]
  },
  {
   "cell_type": "code",
   "execution_count": 27,
   "metadata": {},
   "outputs": [
    {
     "name": "stdout",
     "output_type": "stream",
     "text": [
      "[0, 2, 6, 12, 20, 30, 42, 56, 72, 90]\n"
     ]
    }
   ],
   "source": [
    "print([k * (k - 1) for k in range(1, 11)])"
   ]
  },
  {
   "cell_type": "code",
   "execution_count": 28,
   "metadata": {},
   "outputs": [
    {
     "name": "stdout",
     "output_type": "stream",
     "text": [
      "['a', 'b', 'c', 'd', 'e', 'f', 'g', 'h', 'i', 'j', 'k', 'l', 'm', 'n', 'o', 'p', 'q', 'r', 's', 't', 'u', 'v', 'w', 'x', 'y', 'z']\n"
     ]
    }
   ],
   "source": [
    "print([chr(k) for k in range(97, 123)])"
   ]
  },
  {
   "cell_type": "code",
   "execution_count": 31,
   "metadata": {},
   "outputs": [
    {
     "name": "stdout",
     "output_type": "stream",
     "text": [
      "[6, 8, 4, 9, 2]\n"
     ]
    }
   ],
   "source": [
    "import random\n",
    "def shufl(data):\n",
    "    for k in range(0, len(data)):\n",
    "        random_index = random.randint(0, k)\n",
    "        tmp = data[random_index]\n",
    "        data[random_index] = data[k]\n",
    "        data[k] = tmp\n",
    "\n",
    "alpha = [2,4,6,8,9]\n",
    "shufl(alpha)\n",
    "print(alpha)"
   ]
  },
  {
   "cell_type": "code",
   "execution_count": null,
   "metadata": {},
   "outputs": [
    {
     "name": "stdout",
     "output_type": "stream",
     "text": [
      "Enter text, i shall print it in reversed order, ctrl-d to stopHi my name is Slim Shady\n",
      "Enter text, i shall print it in reversed order, ctrl-d to stophi\n",
      "Enter text, i shall print it in reversed order, ctrl-d to stopd\n",
      "Enter text, i shall print it in reversed order, ctrl-d to stopvaibhav\n"
     ]
    }
   ],
   "source": [
    "  done = False\n",
    "lines = []\n",
    "\n",
    "while not done:\n",
    "    try:\n",
    "        line = input('Enter text, i shall print it in reversed order, ctrl-d to stop')\n",
    "        lines.append(line)\n",
    "    except(EOFError):\n",
    "            for l in range(len(lines) - 1, -1, -1):\n",
    "                print(lines[l])\n",
    "                done = True"
   ]
  },
  {
   "cell_type": "code",
   "execution_count": 4,
   "metadata": {},
   "outputs": [
    {
     "name": "stdout",
     "output_type": "stream",
     "text": [
      "[2, 4, 6, 8]\n"
     ]
    }
   ],
   "source": [
    "first = [1, 2, 3, 4]\n",
    "second = [1, 2, 3, 4]\n",
    "\n",
    "\n",
    "def dot_product(a, b):\n",
    "    # assume n is the same for both\n",
    "    c = []\n",
    "    for k in range(0, len(a)):\n",
    "        c.append(a[k] + b[k])\n",
    "    print(c)\n",
    "third = dot_product(first, second)"
   ]
  },
  {
   "cell_type": "code",
   "execution_count": 1,
   "metadata": {},
   "outputs": [
    {
     "name": "stdout",
     "output_type": "stream",
     "text": [
      "Don't try buffer overflow attacks in Python\n"
     ]
    }
   ],
   "source": [
    "a_list = [1, 2, 3, 4]\n",
    "\n",
    "try:\n",
    "    a_list[4] = 5\n",
    "except IndexError:\n",
    "    print(\"Don't try buffer overflow attacks in Python\")"
   ]
  },
  {
   "cell_type": "code",
   "execution_count": 2,
   "metadata": {},
   "outputs": [
    {
     "name": "stdout",
     "output_type": "stream",
     "text": [
      "9\n"
     ]
    }
   ],
   "source": [
    "given_string = \"There are 9 vowels in this string\"\n",
    "count = 0\n",
    "\n",
    "for c in given_string:\n",
    "    if c == 'a' or c == 'e' or c == 'i' or c == 'o' or c == \"u\":\n",
    "        count += 1\n",
    "\n",
    "print(count)"
   ]
  },
  {
   "cell_type": "code",
   "execution_count": 3,
   "metadata": {},
   "outputs": [
    {
     "name": "stdout",
     "output_type": "stream",
     "text": [
      "Please enter a string: let's try ,Mike\n",
      "lets try Mike\n"
     ]
    }
   ],
   "source": [
    "def strip_punct(string):\n",
    "    punctuation = \"[!\\\"#$%&'()*+,./:;<=>?@\\^_`{|}~-]\"\n",
    "    result = []\n",
    "    for char in string:\n",
    "        if char not in punctuation:\n",
    "            result.append(char)\n",
    "    return \"\".join(result)\n",
    "\n",
    "if __name__ == \"__main__\":\n",
    "    print(strip_punct(input(\"Please enter a string: \")))"
   ]
  },
  {
   "cell_type": "code",
   "execution_count": 2,
   "metadata": {},
   "outputs": [
    {
     "ename": "SyntaxError",
     "evalue": "invalid syntax (<ipython-input-2-974dfd8f3e80>, line 5)",
     "output_type": "error",
     "traceback": [
      "\u001b[1;36m  File \u001b[1;32m\"<ipython-input-2-974dfd8f3e80>\"\u001b[1;36m, line \u001b[1;32m5\u001b[0m\n\u001b[1;33m    if a + b = c:\u001b[0m\n\u001b[1;37m             ^\u001b[0m\n\u001b[1;31mSyntaxError\u001b[0m\u001b[1;31m:\u001b[0m invalid syntax\n"
     ]
    }
   ],
   "source": [
    "\n",
    "\n",
    "\n",
    "def match_arth_expr(a, b, c):\n",
    "    if a + b = c:\n",
    "        return \"%i + %i = %i\" %(a, b, c)\n",
    "    elif a = b + c:\n",
    "        return \"%i = %i + %i\" %(a, b, c)\n",
    "    elif a - b = c:\n",
    "        return \"%i - %i = %i\" % (a, b, c)\n",
    "    elif a = b - c:\n",
    "        return \"%i = %i - %i\" %(a, b, c)\n",
    "    elif a * b = c:\n",
    "        return \"%i * %i = %i\" % (a, b, c)\n",
    "    elif a = b * c:\n",
    "        return \"%i = %i * %i\" %(a, b, c)\n",
    "    else:\n",
    "        return \"%i, %i, and %i do not match an arithmetic expression.\" %(a, b, c)\n",
    "\n",
    "\n",
    "a =input(\"Enter a\")\n",
    "b= input(\"Enter b\")\n",
    "c= input(\"Enter c\")\n",
    "print(match_arth_expr(a, b, c))"
   ]
  },
  {
   "cell_type": "code",
   "execution_count": 3,
   "metadata": {},
   "outputs": [
    {
     "ename": "ModuleNotFoundError",
     "evalue": "No module named 'solutions'",
     "output_type": "error",
     "traceback": [
      "\u001b[1;31m---------------------------------------------------------------------------\u001b[0m",
      "\u001b[1;31mModuleNotFoundError\u001b[0m                       Traceback (most recent call last)",
      "\u001b[1;32m<ipython-input-3-ff290c266c0a>\u001b[0m in \u001b[0;36m<module>\u001b[1;34m()\u001b[0m\n\u001b[0;32m      1\u001b[0m \u001b[1;32mfrom\u001b[0m \u001b[0msys\u001b[0m \u001b[1;32mimport\u001b[0m \u001b[0margv\u001b[0m\u001b[1;33m\u001b[0m\u001b[0m\n\u001b[1;32m----> 2\u001b[1;33m \u001b[1;32mfrom\u001b[0m \u001b[0msolutions\u001b[0m\u001b[1;33m.\u001b[0m\u001b[0mlibs\u001b[0m\u001b[1;33m.\u001b[0m\u001b[0mutils\u001b[0m\u001b[1;33m.\u001b[0m\u001b[0margv\u001b[0m \u001b[1;32mimport\u001b[0m \u001b[0mparse_int_list\u001b[0m\u001b[1;33m\u001b[0m\u001b[0m\n\u001b[0m\u001b[0;32m      3\u001b[0m \u001b[1;33m\u001b[0m\u001b[0m\n\u001b[0;32m      4\u001b[0m \u001b[1;32mdef\u001b[0m \u001b[0mget_p_norm\u001b[0m\u001b[1;33m(\u001b[0m\u001b[0mv\u001b[0m\u001b[1;33m,\u001b[0m \u001b[0mp\u001b[0m\u001b[1;33m=\u001b[0m\u001b[1;36m2\u001b[0m\u001b[1;33m)\u001b[0m\u001b[1;33m:\u001b[0m\u001b[1;33m\u001b[0m\u001b[0m\n\u001b[0;32m      5\u001b[0m     \u001b[0msum\u001b[0m \u001b[1;33m=\u001b[0m \u001b[1;36m0\u001b[0m\u001b[1;33m\u001b[0m\u001b[0m\n",
      "\u001b[1;31mModuleNotFoundError\u001b[0m: No module named 'solutions'"
     ]
    }
   ],
   "source": [
    "from sys import argv\n",
    "\n",
    "\n",
    "def get_p_norm(v, p=2):\n",
    "    sum = 0\n",
    "    for vi in v:\n",
    "        sum += vi ** p\n",
    "    return sum ** (1/p)\n",
    "\n",
    "if __name__ == \"__main__\":\n",
    "    v, current_index = parse_int_list(1)\n",
    "    p = int(argv[current_index]) if current_index < len(argv) else 2\n",
    "    p_norm = get_p_norm(v, p)\n",
    "    print(\"The %i-norm of %s is %f.\" %(p, v, p_norm))"
   ]
  },
  {
   "cell_type": "code",
   "execution_count": null,
   "metadata": {},
   "outputs": [],
   "source": []
  }
 ],
 "metadata": {
  "kernelspec": {
   "display_name": "Python 3",
   "language": "python",
   "name": "python3"
  },
  "language_info": {
   "codemirror_mode": {
    "name": "ipython",
    "version": 3
   },
   "file_extension": ".py",
   "mimetype": "text/x-python",
   "name": "python",
   "nbconvert_exporter": "python",
   "pygments_lexer": "ipython3",
   "version": "3.7.0"
  }
 },
 "nbformat": 4,
 "nbformat_minor": 2
}
