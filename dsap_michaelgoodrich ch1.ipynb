{
 "cells": [
  {
   "cell_type": "markdown",
   "metadata": {},
   "source": [
    "# Reinforcement"
   ]
  },
  {
   "cell_type": "markdown",
   "metadata": {},
   "source": [
    "# R-1.2\n",
    "Write a short Python function, is even(k), that takes an integer value and returns True if k is even,\n",
    " and False otherwise. However, your function cannot use the multiplication, modulo, or division operators."
   ]
  },
  {
   "cell_type": "code",
   "execution_count": 7,
   "metadata": {},
   "outputs": [
    {
     "name": "stdout",
     "output_type": "stream",
     "text": [
      "Enter a number6\n"
     ]
    },
    {
     "data": {
      "text/plain": [
       "True"
      ]
     },
     "execution_count": 7,
     "metadata": {},
     "output_type": "execute_result"
    }
   ],
   "source": [
    "def is_even(k):\n",
    "    if k&1==0:\n",
    "      return True \n",
    "    else:\n",
    "      return False\n",
    "k=int(input(\"Enter a number\"))    \n",
    "is_even(k)\n"
   ]
  },
  {
   "cell_type": "markdown",
   "metadata": {},
   "source": [
    "# R-1.3\n",
    "Write a short Python function, minmax(data), that takes a sequence of one or more numbers,\n",
    "and returns the smallest and largest numbers, in the form of a tuple of length two.\n",
    "Do not use the built-in functions min or max in implementing your solution."
   ]
  },
  {
   "cell_type": "code",
   "execution_count": 8,
   "metadata": {},
   "outputs": [
    {
     "name": "stdout",
     "output_type": "stream",
     "text": [
      "(2, 99)\n"
     ]
    }
   ],
   "source": [
    "def minmax(data):\n",
    "    largest = data[0]\n",
    "    smallest = data[0]\n",
    "    for item in data:\n",
    "        if item > largest:\n",
    "            largest = item\n",
    "        elif item < smallest:\n",
    "            smallest = item\n",
    "    return smallest, largest\n",
    "\n",
    "\n",
    "alpha = [2, 2, 3, 4, 5, 6, 7, 8, 99]\n",
    "\n",
    "print(minmax(alpha))"
   ]
  },
  {
   "cell_type": "markdown",
   "metadata": {},
   "source": [
    "# R-1.4\n",
    " Write a short Python function that takes a positive integer n and returns the sum of the squares\n",
    "  of all the positive integers smaller than n."
   ]
  },
  {
   "cell_type": "code",
   "execution_count": 42,
   "metadata": {},
   "outputs": [
    {
     "name": "stdout",
     "output_type": "stream",
     "text": [
      "Enter the number till which you want sum of the squares3\n",
      "5\n"
     ]
    }
   ],
   "source": [
    "def sumofsquares(n):\n",
    "    \n",
    "                    s=0\n",
    "                    for i in range(0,n):\n",
    "                                       s=s+i*i\n",
    "                    print(s)\n",
    "n=int(input(\"Enter the number till which you want sum of the squares\"))\n",
    "sumofsquares(n)"
   ]
  },
  {
   "cell_type": "markdown",
   "metadata": {},
   "source": [
    "# R-1.6\n",
    "Write a short Python function that takes a positive integer n and returns the sum of the squares\n",
    " of all the odd positive integers smaller than n."
   ]
  },
  {
   "cell_type": "code",
   "execution_count": 45,
   "metadata": {},
   "outputs": [
    {
     "name": "stdout",
     "output_type": "stream",
     "text": [
      "Enter the number till which you want sum of the squares of odd numbers3\n",
      "1\n"
     ]
    }
   ],
   "source": [
    "def sumofoddnnumbers(n):\n",
    "    s=0\n",
    "    for i in range(1,n):\n",
    "           if i & 1==1:\n",
    "            s=s+i*i\n",
    "    print(s)\n",
    "n=int(input(\"Enter the number till which you want sum of the squares of odd numbers\"))\n",
    "sumofoddnnumbers(n)"
   ]
  },
  {
   "cell_type": "markdown",
   "metadata": {},
   "source": [
    "# R-1.9\n",
    " What parameters should be sent to the range constructor, to produce a range with values 50, 60, 70, 80?"
   ]
  },
  {
   "cell_type": "code",
   "execution_count": 47,
   "metadata": {},
   "outputs": [
    {
     "name": "stdout",
     "output_type": "stream",
     "text": [
      "50\n",
      "60\n",
      "70\n",
      "80\n"
     ]
    }
   ],
   "source": [
    "for i in range(50,90,10):\n",
    "    print(i)\n",
    "                       "
   ]
  },
  {
   "cell_type": "markdown",
   "metadata": {},
   "source": [
    "# R-1.10\n",
    "what parameters should be sent to the range constructor to produce a range with values\n",
    " 8, 6, 4, 2, 0, -2, -4, -6, -8"
   ]
  },
  {
   "cell_type": "code",
   "execution_count": 9,
   "metadata": {},
   "outputs": [
    {
     "name": "stdout",
     "output_type": "stream",
     "text": [
      "8\n",
      "6\n",
      "4\n",
      "2\n",
      "0\n",
      "-2\n",
      "-4\n",
      "-6\n",
      "-8\n"
     ]
    }
   ],
   "source": [
    "for i in range(8,-10,-2):\n",
    "    print(i)"
   ]
  },
  {
   "cell_type": "markdown",
   "metadata": {},
   "source": [
    "# R-1.11\n",
    " Demonstrate how to use Python's list comprehension syntax to produce the list\n",
    " [1, 2, 4, 8, 16, 32, 64, 128, 256]."
   ]
  },
  {
   "cell_type": "code",
   "execution_count": 10,
   "metadata": {},
   "outputs": [
    {
     "name": "stdout",
     "output_type": "stream",
     "text": [
      "[1, 2, 4, 8, 16, 32]\n"
     ]
    }
   ],
   "source": [
    "a=[2**k for k in range(0,k)]\n",
    "print(a)"
   ]
  },
  {
   "cell_type": "code",
   "execution_count": 12,
   "metadata": {},
   "outputs": [
    {
     "data": {
      "text/plain": [
       "[3, 6, 5]"
      ]
     },
     "execution_count": 12,
     "metadata": {},
     "output_type": "execute_result"
    }
   ],
   "source": [
    "some_list = [1, 2, 3, 6, 5, 1, 7, 3]\n",
    "some_list[2:-3]"
   ]
  },
  {
   "cell_type": "code",
   "execution_count": 16,
   "metadata": {},
   "outputs": [
    {
     "name": "stdout",
     "output_type": "stream",
     "text": [
      "list1 = [10, 'a']\n",
      "list2 = [123]\n",
      "list3 = [10, 'a']\n"
     ]
    }
   ],
   "source": [
    "def extendList(val, list=[]): \n",
    "    list.append(val) \n",
    "    return list\n",
    "list1 = extendList(10) \n",
    "list2 = extendList(123,[]) \n",
    "list3 = extendList('a')\n",
    "print(\"list1 = %s\" % list1) \n",
    "print(\"list2 = %s\" % list2) \n",
    "print(\"list3 = %s\" % list3)"
   ]
  },
  {
   "cell_type": "code",
   "execution_count": 17,
   "metadata": {},
   "outputs": [
    {
     "name": "stdout",
     "output_type": "stream",
     "text": [
      "['', 'b', 'cdaegakialaop']\n"
     ]
    }
   ],
   "source": [
    "some_string = \"abacdaegakialaop\" \n",
    "print(some_string.split('a', 2))\n"
   ]
  },
  {
   "cell_type": "code",
   "execution_count": 19,
   "metadata": {},
   "outputs": [
    {
     "name": "stdout",
     "output_type": "stream",
     "text": [
      "@ \r\n",
      "@ @ \r\n",
      "@ @ @ \r\n",
      "@ @ @ @ \r\n",
      "@ @ @ @ @ \r\n"
     ]
    }
   ],
   "source": [
    "def pattern(n): \n",
    "      \n",
    "     \n",
    "    for i in range(0, n): \n",
    "      \n",
    "        \n",
    "        for j in range(0, i+1): \n",
    "          \n",
    "            \n",
    "            print(\"@ \",end=\"\") \n",
    "       \n",
    "        \n",
    "        print(\"\\r\") \n",
    "  \n",
    "\n",
    "n = 5\n",
    "pattern(n) "
   ]
  },
  {
   "cell_type": "markdown",
   "metadata": {},
   "source": [
    "# Creativity"
   ]
  },
  {
   "cell_type": "markdown",
   "metadata": {},
   "source": [
    "# C 1.13"
   ]
  },
  {
   "cell_type": "code",
   "execution_count": 20,
   "metadata": {},
   "outputs": [
    {
     "name": "stdout",
     "output_type": "stream",
     "text": [
      "[4, 3, 2, 1]\n"
     ]
    }
   ],
   "source": [
    "a = [1,2,3,4]\n",
    "a = a[::-1]\n",
    "print(a)"
   ]
  },
  {
   "cell_type": "markdown",
   "metadata": {},
   "source": [
    "# C 1.14"
   ]
  },
  {
   "cell_type": "code",
   "execution_count": 21,
   "metadata": {},
   "outputs": [
    {
     "name": "stdout",
     "output_type": "stream",
     "text": [
      "[4, 5, 9, 2, 1] True\n",
      "[1, 6, 4, 7, 8] True\n"
     ]
    }
   ],
   "source": [
    "def odd_product(nums):\n",
    "  for i in range(len(nums)):\n",
    "    for j in range(len(nums)):\n",
    "      if  i != j:\n",
    "        product = nums[i] * nums[j]\n",
    "        if product & 1:\n",
    "          return True\n",
    "          return False\n",
    "          \n",
    "dt1 = [4,5,9,2,1]\n",
    "dt2 = [1, 6, 4, 7, 8]\n",
    "print(dt1, odd_product(dt1));\n",
    "print(dt2, odd_product(dt2));"
   ]
  },
  {
   "cell_type": "markdown",
   "metadata": {},
   "source": [
    "# C 1.15"
   ]
  },
  {
   "cell_type": "code",
   "execution_count": 26,
   "metadata": {
    "scrolled": true
   },
   "outputs": [
    {
     "name": "stdout",
     "output_type": "stream",
     "text": [
      "True\n",
      "False\n"
     ]
    }
   ],
   "source": [
    "def test_distinct(data):\n",
    "  if len(data) == len(set(data)):\n",
    "    return True\n",
    "  else:\n",
    "    return False;\n",
    "print(test_distinct([1,5,7,9]))\n",
    "print(test_distinct([2,4,5,5,7,9]))"
   ]
  },
  {
   "cell_type": "markdown",
   "metadata": {},
   "source": [
    "# C 1.18"
   ]
  },
  {
   "cell_type": "code",
   "execution_count": 27,
   "metadata": {},
   "outputs": [
    {
     "name": "stdout",
     "output_type": "stream",
     "text": [
      "[0, 2, 6, 12, 20, 30, 42, 56, 72, 90]\n"
     ]
    }
   ],
   "source": [
    "print([k * (k - 1) for k in range(1, 11)])"
   ]
  },
  {
   "cell_type": "markdown",
   "metadata": {},
   "source": [
    "# C 1.19"
   ]
  },
  {
   "cell_type": "code",
   "execution_count": 28,
   "metadata": {},
   "outputs": [
    {
     "name": "stdout",
     "output_type": "stream",
     "text": [
      "['a', 'b', 'c', 'd', 'e', 'f', 'g', 'h', 'i', 'j', 'k', 'l', 'm', 'n', 'o', 'p', 'q', 'r', 's', 't', 'u', 'v', 'w', 'x', 'y', 'z']\n"
     ]
    }
   ],
   "source": [
    "print([chr(k) for k in range(97, 123)])"
   ]
  },
  {
   "cell_type": "markdown",
   "metadata": {},
   "source": [
    "# C 1.20"
   ]
  },
  {
   "cell_type": "code",
   "execution_count": 31,
   "metadata": {},
   "outputs": [
    {
     "name": "stdout",
     "output_type": "stream",
     "text": [
      "[6, 8, 4, 9, 2]\n"
     ]
    }
   ],
   "source": [
    "import random\n",
    "def shufl(data):\n",
    "    for k in range(0, len(data)):\n",
    "        random_index = random.randint(0, k)\n",
    "        tmp = data[random_index]\n",
    "        data[random_index] = data[k]\n",
    "        data[k] = tmp\n",
    "\n",
    "alpha = [2,4,6,8,9]\n",
    "shufl(alpha)\n",
    "print(alpha)"
   ]
  },
  {
   "cell_type": "markdown",
   "metadata": {},
   "source": [
    "# C 1.21"
   ]
  },
  {
   "cell_type": "code",
   "execution_count": null,
   "metadata": {},
   "outputs": [
    {
     "name": "stdout",
     "output_type": "stream",
     "text": [
      "Enter text, i shall print it in reversed order, ctrl-d to stopHi my name is Slim Shady\n",
      "Enter text, i shall print it in reversed order, ctrl-d to stophi\n",
      "Enter text, i shall print it in reversed order, ctrl-d to stopd\n",
      "Enter text, i shall print it in reversed order, ctrl-d to stopvaibhav\n"
     ]
    }
   ],
   "source": [
    "  done = False\n",
    "lines = []\n",
    "\n",
    "while not done:\n",
    "    try:\n",
    "        line = input('Enter text, i shall print it in reversed order, ctrl-d to stop')\n",
    "        lines.append(line)\n",
    "    except(EOFError):\n",
    "            for l in range(len(lines) - 1, -1, -1):\n",
    "                print(lines[l])\n",
    "                done = True"
   ]
  },
  {
   "cell_type": "markdown",
   "metadata": {},
   "source": [
    "# C 1.22"
   ]
  },
  {
   "cell_type": "code",
   "execution_count": 4,
   "metadata": {},
   "outputs": [
    {
     "name": "stdout",
     "output_type": "stream",
     "text": [
      "[2, 4, 6, 8]\n"
     ]
    }
   ],
   "source": [
    "first = [1, 2, 3, 4]\n",
    "second = [1, 2, 3, 4]\n",
    "\n",
    "\n",
    "def dot_product(a, b):\n",
    "    # assume n is the same for both\n",
    "    c = []\n",
    "    for k in range(0, len(a)):\n",
    "        c.append(a[k] + b[k])\n",
    "    print(c)\n",
    "third = dot_product(first, second)"
   ]
  },
  {
   "cell_type": "markdown",
   "metadata": {},
   "source": [
    "# C 1.23"
   ]
  },
  {
   "cell_type": "code",
   "execution_count": 1,
   "metadata": {},
   "outputs": [
    {
     "name": "stdout",
     "output_type": "stream",
     "text": [
      "Don't try buffer overflow attacks in Python\n"
     ]
    }
   ],
   "source": [
    "a_list = [1, 2, 3, 4]\n",
    "\n",
    "try:\n",
    "    a_list[4] = 5\n",
    "except IndexError:\n",
    "    print(\"Don't try buffer overflow attacks in Python\")"
   ]
  },
  {
   "cell_type": "markdown",
   "metadata": {},
   "source": [
    "# C 1.24"
   ]
  },
  {
   "cell_type": "code",
   "execution_count": 2,
   "metadata": {},
   "outputs": [
    {
     "name": "stdout",
     "output_type": "stream",
     "text": [
      "9\n"
     ]
    }
   ],
   "source": [
    "given_string = \"There are 9 vowels in this string\"\n",
    "count = 0\n",
    "\n",
    "for c in given_string:\n",
    "    if c == 'a' or c == 'e' or c == 'i' or c == 'o' or c == \"u\":\n",
    "        count += 1\n",
    "\n",
    "print(count)"
   ]
  },
  {
   "cell_type": "markdown",
   "metadata": {},
   "source": [
    "# C 1.25"
   ]
  },
  {
   "cell_type": "code",
   "execution_count": 3,
   "metadata": {},
   "outputs": [
    {
     "name": "stdout",
     "output_type": "stream",
     "text": [
      "Please enter a string: let's try ,Mike\n",
      "lets try Mike\n"
     ]
    }
   ],
   "source": [
    "def strip_punct(string):\n",
    "    punctuation = \"[!\\\"#$%&'()*+,./:;<=>?@\\^_`{|}~-]\"\n",
    "    result = []\n",
    "    for char in string:\n",
    "        if char not in punctuation:\n",
    "            result.append(char)\n",
    "    return \"\".join(result)\n",
    "\n",
    "if __name__ == \"__main__\":\n",
    "    print(strip_punct(input(\"Please enter a string: \")))"
   ]
  },
  {
   "cell_type": "markdown",
   "metadata": {},
   "source": [
    "# C 1.26"
   ]
  },
  {
   "cell_type": "code",
   "execution_count": 3,
   "metadata": {},
   "outputs": [
    {
     "name": "stdout",
     "output_type": "stream",
     "text": [
      "Enter a1\n",
      "Enter b2\n",
      "Enter c3\n",
      "1 + 2 = 3\n"
     ]
    }
   ],
   "source": [
    "\n",
    "\n",
    "\n",
    "def match_arth_expr(a, b, c):\n",
    "    if a + b == c:\n",
    "        return \"%i + %i = %i\" %(a, b, c)\n",
    "    elif a == b + c:\n",
    "        return \"%i = %i + %i\" %(a, b, c)\n",
    "    elif a - b == c:\n",
    "        return \"%i - %i = %i\" % (a, b, c)\n",
    "    elif a == b - c:\n",
    "        return \"%i = %i - %i\" %(a, b, c)\n",
    "    elif a * b == c:\n",
    "        return \"%i * %i = %i\" % (a, b, c)\n",
    "    elif a == b * c:\n",
    "        return \"%i = %i * %i\" %(a, b, c)\n",
    "    else:\n",
    "        return \"%i, %i, and %i do not match an arithmetic expression.\" %(a, b, c)\n",
    "\n",
    "\n",
    "a =int(input(\"Enter a\"))\n",
    "b= int(input(\"Enter b\"))\n",
    "c= int(input(\"Enter c\"))\n",
    "print(match_arth_expr(a, b, c))"
   ]
  },
  {
   "cell_type": "markdown",
   "metadata": {},
   "source": [
    "# C 1.28"
   ]
  },
  {
   "cell_type": "code",
   "execution_count": 6,
   "metadata": {},
   "outputs": [
    {
     "data": {
      "text/plain": [
       "7.3484692283495345"
      ]
     },
     "execution_count": 6,
     "metadata": {},
     "output_type": "execute_result"
    }
   ],
   "source": [
    "\n",
    "\n",
    "\n",
    "def get_p_norm(v, p):\n",
    "    sum = 0\n",
    "    for vi in v:\n",
    "        sum += vi ** p\n",
    "    return sum ** (1/p)\n",
    "\n",
    "v = [2,3,4,5]\n",
    "\n",
    "get_p_norm(v,2)\n"
   ]
  },
  {
   "cell_type": "markdown",
   "metadata": {},
   "source": [
    "# Projects"
   ]
  },
  {
   "cell_type": "markdown",
   "metadata": {},
   "source": [
    "# P 1.29"
   ]
  },
  {
   "cell_type": "code",
   "execution_count": 16,
   "metadata": {},
   "outputs": [
    {
     "data": {
      "text/plain": [
       "[('c', 'a', 't', 'd', 'o', 'g'),\n",
       " ('c', 'a', 't', 'd', 'g', 'o'),\n",
       " ('c', 'a', 't', 'o', 'd', 'g'),\n",
       " ('c', 'a', 't', 'o', 'g', 'd'),\n",
       " ('c', 'a', 't', 'g', 'd', 'o'),\n",
       " ('c', 'a', 't', 'g', 'o', 'd'),\n",
       " ('c', 'a', 'd', 't', 'o', 'g'),\n",
       " ('c', 'a', 'd', 't', 'g', 'o'),\n",
       " ('c', 'a', 'd', 'o', 't', 'g'),\n",
       " ('c', 'a', 'd', 'o', 'g', 't'),\n",
       " ('c', 'a', 'd', 'g', 't', 'o'),\n",
       " ('c', 'a', 'd', 'g', 'o', 't'),\n",
       " ('c', 'a', 'o', 't', 'd', 'g'),\n",
       " ('c', 'a', 'o', 't', 'g', 'd'),\n",
       " ('c', 'a', 'o', 'd', 't', 'g'),\n",
       " ('c', 'a', 'o', 'd', 'g', 't'),\n",
       " ('c', 'a', 'o', 'g', 't', 'd'),\n",
       " ('c', 'a', 'o', 'g', 'd', 't'),\n",
       " ('c', 'a', 'g', 't', 'd', 'o'),\n",
       " ('c', 'a', 'g', 't', 'o', 'd'),\n",
       " ('c', 'a', 'g', 'd', 't', 'o'),\n",
       " ('c', 'a', 'g', 'd', 'o', 't'),\n",
       " ('c', 'a', 'g', 'o', 't', 'd'),\n",
       " ('c', 'a', 'g', 'o', 'd', 't'),\n",
       " ('c', 't', 'a', 'd', 'o', 'g'),\n",
       " ('c', 't', 'a', 'd', 'g', 'o'),\n",
       " ('c', 't', 'a', 'o', 'd', 'g'),\n",
       " ('c', 't', 'a', 'o', 'g', 'd'),\n",
       " ('c', 't', 'a', 'g', 'd', 'o'),\n",
       " ('c', 't', 'a', 'g', 'o', 'd'),\n",
       " ('c', 't', 'd', 'a', 'o', 'g'),\n",
       " ('c', 't', 'd', 'a', 'g', 'o'),\n",
       " ('c', 't', 'd', 'o', 'a', 'g'),\n",
       " ('c', 't', 'd', 'o', 'g', 'a'),\n",
       " ('c', 't', 'd', 'g', 'a', 'o'),\n",
       " ('c', 't', 'd', 'g', 'o', 'a'),\n",
       " ('c', 't', 'o', 'a', 'd', 'g'),\n",
       " ('c', 't', 'o', 'a', 'g', 'd'),\n",
       " ('c', 't', 'o', 'd', 'a', 'g'),\n",
       " ('c', 't', 'o', 'd', 'g', 'a'),\n",
       " ('c', 't', 'o', 'g', 'a', 'd'),\n",
       " ('c', 't', 'o', 'g', 'd', 'a'),\n",
       " ('c', 't', 'g', 'a', 'd', 'o'),\n",
       " ('c', 't', 'g', 'a', 'o', 'd'),\n",
       " ('c', 't', 'g', 'd', 'a', 'o'),\n",
       " ('c', 't', 'g', 'd', 'o', 'a'),\n",
       " ('c', 't', 'g', 'o', 'a', 'd'),\n",
       " ('c', 't', 'g', 'o', 'd', 'a'),\n",
       " ('c', 'd', 'a', 't', 'o', 'g'),\n",
       " ('c', 'd', 'a', 't', 'g', 'o'),\n",
       " ('c', 'd', 'a', 'o', 't', 'g'),\n",
       " ('c', 'd', 'a', 'o', 'g', 't'),\n",
       " ('c', 'd', 'a', 'g', 't', 'o'),\n",
       " ('c', 'd', 'a', 'g', 'o', 't'),\n",
       " ('c', 'd', 't', 'a', 'o', 'g'),\n",
       " ('c', 'd', 't', 'a', 'g', 'o'),\n",
       " ('c', 'd', 't', 'o', 'a', 'g'),\n",
       " ('c', 'd', 't', 'o', 'g', 'a'),\n",
       " ('c', 'd', 't', 'g', 'a', 'o'),\n",
       " ('c', 'd', 't', 'g', 'o', 'a'),\n",
       " ('c', 'd', 'o', 'a', 't', 'g'),\n",
       " ('c', 'd', 'o', 'a', 'g', 't'),\n",
       " ('c', 'd', 'o', 't', 'a', 'g'),\n",
       " ('c', 'd', 'o', 't', 'g', 'a'),\n",
       " ('c', 'd', 'o', 'g', 'a', 't'),\n",
       " ('c', 'd', 'o', 'g', 't', 'a'),\n",
       " ('c', 'd', 'g', 'a', 't', 'o'),\n",
       " ('c', 'd', 'g', 'a', 'o', 't'),\n",
       " ('c', 'd', 'g', 't', 'a', 'o'),\n",
       " ('c', 'd', 'g', 't', 'o', 'a'),\n",
       " ('c', 'd', 'g', 'o', 'a', 't'),\n",
       " ('c', 'd', 'g', 'o', 't', 'a'),\n",
       " ('c', 'o', 'a', 't', 'd', 'g'),\n",
       " ('c', 'o', 'a', 't', 'g', 'd'),\n",
       " ('c', 'o', 'a', 'd', 't', 'g'),\n",
       " ('c', 'o', 'a', 'd', 'g', 't'),\n",
       " ('c', 'o', 'a', 'g', 't', 'd'),\n",
       " ('c', 'o', 'a', 'g', 'd', 't'),\n",
       " ('c', 'o', 't', 'a', 'd', 'g'),\n",
       " ('c', 'o', 't', 'a', 'g', 'd'),\n",
       " ('c', 'o', 't', 'd', 'a', 'g'),\n",
       " ('c', 'o', 't', 'd', 'g', 'a'),\n",
       " ('c', 'o', 't', 'g', 'a', 'd'),\n",
       " ('c', 'o', 't', 'g', 'd', 'a'),\n",
       " ('c', 'o', 'd', 'a', 't', 'g'),\n",
       " ('c', 'o', 'd', 'a', 'g', 't'),\n",
       " ('c', 'o', 'd', 't', 'a', 'g'),\n",
       " ('c', 'o', 'd', 't', 'g', 'a'),\n",
       " ('c', 'o', 'd', 'g', 'a', 't'),\n",
       " ('c', 'o', 'd', 'g', 't', 'a'),\n",
       " ('c', 'o', 'g', 'a', 't', 'd'),\n",
       " ('c', 'o', 'g', 'a', 'd', 't'),\n",
       " ('c', 'o', 'g', 't', 'a', 'd'),\n",
       " ('c', 'o', 'g', 't', 'd', 'a'),\n",
       " ('c', 'o', 'g', 'd', 'a', 't'),\n",
       " ('c', 'o', 'g', 'd', 't', 'a'),\n",
       " ('c', 'g', 'a', 't', 'd', 'o'),\n",
       " ('c', 'g', 'a', 't', 'o', 'd'),\n",
       " ('c', 'g', 'a', 'd', 't', 'o'),\n",
       " ('c', 'g', 'a', 'd', 'o', 't'),\n",
       " ('c', 'g', 'a', 'o', 't', 'd'),\n",
       " ('c', 'g', 'a', 'o', 'd', 't'),\n",
       " ('c', 'g', 't', 'a', 'd', 'o'),\n",
       " ('c', 'g', 't', 'a', 'o', 'd'),\n",
       " ('c', 'g', 't', 'd', 'a', 'o'),\n",
       " ('c', 'g', 't', 'd', 'o', 'a'),\n",
       " ('c', 'g', 't', 'o', 'a', 'd'),\n",
       " ('c', 'g', 't', 'o', 'd', 'a'),\n",
       " ('c', 'g', 'd', 'a', 't', 'o'),\n",
       " ('c', 'g', 'd', 'a', 'o', 't'),\n",
       " ('c', 'g', 'd', 't', 'a', 'o'),\n",
       " ('c', 'g', 'd', 't', 'o', 'a'),\n",
       " ('c', 'g', 'd', 'o', 'a', 't'),\n",
       " ('c', 'g', 'd', 'o', 't', 'a'),\n",
       " ('c', 'g', 'o', 'a', 't', 'd'),\n",
       " ('c', 'g', 'o', 'a', 'd', 't'),\n",
       " ('c', 'g', 'o', 't', 'a', 'd'),\n",
       " ('c', 'g', 'o', 't', 'd', 'a'),\n",
       " ('c', 'g', 'o', 'd', 'a', 't'),\n",
       " ('c', 'g', 'o', 'd', 't', 'a'),\n",
       " ('a', 'c', 't', 'd', 'o', 'g'),\n",
       " ('a', 'c', 't', 'd', 'g', 'o'),\n",
       " ('a', 'c', 't', 'o', 'd', 'g'),\n",
       " ('a', 'c', 't', 'o', 'g', 'd'),\n",
       " ('a', 'c', 't', 'g', 'd', 'o'),\n",
       " ('a', 'c', 't', 'g', 'o', 'd'),\n",
       " ('a', 'c', 'd', 't', 'o', 'g'),\n",
       " ('a', 'c', 'd', 't', 'g', 'o'),\n",
       " ('a', 'c', 'd', 'o', 't', 'g'),\n",
       " ('a', 'c', 'd', 'o', 'g', 't'),\n",
       " ('a', 'c', 'd', 'g', 't', 'o'),\n",
       " ('a', 'c', 'd', 'g', 'o', 't'),\n",
       " ('a', 'c', 'o', 't', 'd', 'g'),\n",
       " ('a', 'c', 'o', 't', 'g', 'd'),\n",
       " ('a', 'c', 'o', 'd', 't', 'g'),\n",
       " ('a', 'c', 'o', 'd', 'g', 't'),\n",
       " ('a', 'c', 'o', 'g', 't', 'd'),\n",
       " ('a', 'c', 'o', 'g', 'd', 't'),\n",
       " ('a', 'c', 'g', 't', 'd', 'o'),\n",
       " ('a', 'c', 'g', 't', 'o', 'd'),\n",
       " ('a', 'c', 'g', 'd', 't', 'o'),\n",
       " ('a', 'c', 'g', 'd', 'o', 't'),\n",
       " ('a', 'c', 'g', 'o', 't', 'd'),\n",
       " ('a', 'c', 'g', 'o', 'd', 't'),\n",
       " ('a', 't', 'c', 'd', 'o', 'g'),\n",
       " ('a', 't', 'c', 'd', 'g', 'o'),\n",
       " ('a', 't', 'c', 'o', 'd', 'g'),\n",
       " ('a', 't', 'c', 'o', 'g', 'd'),\n",
       " ('a', 't', 'c', 'g', 'd', 'o'),\n",
       " ('a', 't', 'c', 'g', 'o', 'd'),\n",
       " ('a', 't', 'd', 'c', 'o', 'g'),\n",
       " ('a', 't', 'd', 'c', 'g', 'o'),\n",
       " ('a', 't', 'd', 'o', 'c', 'g'),\n",
       " ('a', 't', 'd', 'o', 'g', 'c'),\n",
       " ('a', 't', 'd', 'g', 'c', 'o'),\n",
       " ('a', 't', 'd', 'g', 'o', 'c'),\n",
       " ('a', 't', 'o', 'c', 'd', 'g'),\n",
       " ('a', 't', 'o', 'c', 'g', 'd'),\n",
       " ('a', 't', 'o', 'd', 'c', 'g'),\n",
       " ('a', 't', 'o', 'd', 'g', 'c'),\n",
       " ('a', 't', 'o', 'g', 'c', 'd'),\n",
       " ('a', 't', 'o', 'g', 'd', 'c'),\n",
       " ('a', 't', 'g', 'c', 'd', 'o'),\n",
       " ('a', 't', 'g', 'c', 'o', 'd'),\n",
       " ('a', 't', 'g', 'd', 'c', 'o'),\n",
       " ('a', 't', 'g', 'd', 'o', 'c'),\n",
       " ('a', 't', 'g', 'o', 'c', 'd'),\n",
       " ('a', 't', 'g', 'o', 'd', 'c'),\n",
       " ('a', 'd', 'c', 't', 'o', 'g'),\n",
       " ('a', 'd', 'c', 't', 'g', 'o'),\n",
       " ('a', 'd', 'c', 'o', 't', 'g'),\n",
       " ('a', 'd', 'c', 'o', 'g', 't'),\n",
       " ('a', 'd', 'c', 'g', 't', 'o'),\n",
       " ('a', 'd', 'c', 'g', 'o', 't'),\n",
       " ('a', 'd', 't', 'c', 'o', 'g'),\n",
       " ('a', 'd', 't', 'c', 'g', 'o'),\n",
       " ('a', 'd', 't', 'o', 'c', 'g'),\n",
       " ('a', 'd', 't', 'o', 'g', 'c'),\n",
       " ('a', 'd', 't', 'g', 'c', 'o'),\n",
       " ('a', 'd', 't', 'g', 'o', 'c'),\n",
       " ('a', 'd', 'o', 'c', 't', 'g'),\n",
       " ('a', 'd', 'o', 'c', 'g', 't'),\n",
       " ('a', 'd', 'o', 't', 'c', 'g'),\n",
       " ('a', 'd', 'o', 't', 'g', 'c'),\n",
       " ('a', 'd', 'o', 'g', 'c', 't'),\n",
       " ('a', 'd', 'o', 'g', 't', 'c'),\n",
       " ('a', 'd', 'g', 'c', 't', 'o'),\n",
       " ('a', 'd', 'g', 'c', 'o', 't'),\n",
       " ('a', 'd', 'g', 't', 'c', 'o'),\n",
       " ('a', 'd', 'g', 't', 'o', 'c'),\n",
       " ('a', 'd', 'g', 'o', 'c', 't'),\n",
       " ('a', 'd', 'g', 'o', 't', 'c'),\n",
       " ('a', 'o', 'c', 't', 'd', 'g'),\n",
       " ('a', 'o', 'c', 't', 'g', 'd'),\n",
       " ('a', 'o', 'c', 'd', 't', 'g'),\n",
       " ('a', 'o', 'c', 'd', 'g', 't'),\n",
       " ('a', 'o', 'c', 'g', 't', 'd'),\n",
       " ('a', 'o', 'c', 'g', 'd', 't'),\n",
       " ('a', 'o', 't', 'c', 'd', 'g'),\n",
       " ('a', 'o', 't', 'c', 'g', 'd'),\n",
       " ('a', 'o', 't', 'd', 'c', 'g'),\n",
       " ('a', 'o', 't', 'd', 'g', 'c'),\n",
       " ('a', 'o', 't', 'g', 'c', 'd'),\n",
       " ('a', 'o', 't', 'g', 'd', 'c'),\n",
       " ('a', 'o', 'd', 'c', 't', 'g'),\n",
       " ('a', 'o', 'd', 'c', 'g', 't'),\n",
       " ('a', 'o', 'd', 't', 'c', 'g'),\n",
       " ('a', 'o', 'd', 't', 'g', 'c'),\n",
       " ('a', 'o', 'd', 'g', 'c', 't'),\n",
       " ('a', 'o', 'd', 'g', 't', 'c'),\n",
       " ('a', 'o', 'g', 'c', 't', 'd'),\n",
       " ('a', 'o', 'g', 'c', 'd', 't'),\n",
       " ('a', 'o', 'g', 't', 'c', 'd'),\n",
       " ('a', 'o', 'g', 't', 'd', 'c'),\n",
       " ('a', 'o', 'g', 'd', 'c', 't'),\n",
       " ('a', 'o', 'g', 'd', 't', 'c'),\n",
       " ('a', 'g', 'c', 't', 'd', 'o'),\n",
       " ('a', 'g', 'c', 't', 'o', 'd'),\n",
       " ('a', 'g', 'c', 'd', 't', 'o'),\n",
       " ('a', 'g', 'c', 'd', 'o', 't'),\n",
       " ('a', 'g', 'c', 'o', 't', 'd'),\n",
       " ('a', 'g', 'c', 'o', 'd', 't'),\n",
       " ('a', 'g', 't', 'c', 'd', 'o'),\n",
       " ('a', 'g', 't', 'c', 'o', 'd'),\n",
       " ('a', 'g', 't', 'd', 'c', 'o'),\n",
       " ('a', 'g', 't', 'd', 'o', 'c'),\n",
       " ('a', 'g', 't', 'o', 'c', 'd'),\n",
       " ('a', 'g', 't', 'o', 'd', 'c'),\n",
       " ('a', 'g', 'd', 'c', 't', 'o'),\n",
       " ('a', 'g', 'd', 'c', 'o', 't'),\n",
       " ('a', 'g', 'd', 't', 'c', 'o'),\n",
       " ('a', 'g', 'd', 't', 'o', 'c'),\n",
       " ('a', 'g', 'd', 'o', 'c', 't'),\n",
       " ('a', 'g', 'd', 'o', 't', 'c'),\n",
       " ('a', 'g', 'o', 'c', 't', 'd'),\n",
       " ('a', 'g', 'o', 'c', 'd', 't'),\n",
       " ('a', 'g', 'o', 't', 'c', 'd'),\n",
       " ('a', 'g', 'o', 't', 'd', 'c'),\n",
       " ('a', 'g', 'o', 'd', 'c', 't'),\n",
       " ('a', 'g', 'o', 'd', 't', 'c'),\n",
       " ('t', 'c', 'a', 'd', 'o', 'g'),\n",
       " ('t', 'c', 'a', 'd', 'g', 'o'),\n",
       " ('t', 'c', 'a', 'o', 'd', 'g'),\n",
       " ('t', 'c', 'a', 'o', 'g', 'd'),\n",
       " ('t', 'c', 'a', 'g', 'd', 'o'),\n",
       " ('t', 'c', 'a', 'g', 'o', 'd'),\n",
       " ('t', 'c', 'd', 'a', 'o', 'g'),\n",
       " ('t', 'c', 'd', 'a', 'g', 'o'),\n",
       " ('t', 'c', 'd', 'o', 'a', 'g'),\n",
       " ('t', 'c', 'd', 'o', 'g', 'a'),\n",
       " ('t', 'c', 'd', 'g', 'a', 'o'),\n",
       " ('t', 'c', 'd', 'g', 'o', 'a'),\n",
       " ('t', 'c', 'o', 'a', 'd', 'g'),\n",
       " ('t', 'c', 'o', 'a', 'g', 'd'),\n",
       " ('t', 'c', 'o', 'd', 'a', 'g'),\n",
       " ('t', 'c', 'o', 'd', 'g', 'a'),\n",
       " ('t', 'c', 'o', 'g', 'a', 'd'),\n",
       " ('t', 'c', 'o', 'g', 'd', 'a'),\n",
       " ('t', 'c', 'g', 'a', 'd', 'o'),\n",
       " ('t', 'c', 'g', 'a', 'o', 'd'),\n",
       " ('t', 'c', 'g', 'd', 'a', 'o'),\n",
       " ('t', 'c', 'g', 'd', 'o', 'a'),\n",
       " ('t', 'c', 'g', 'o', 'a', 'd'),\n",
       " ('t', 'c', 'g', 'o', 'd', 'a'),\n",
       " ('t', 'a', 'c', 'd', 'o', 'g'),\n",
       " ('t', 'a', 'c', 'd', 'g', 'o'),\n",
       " ('t', 'a', 'c', 'o', 'd', 'g'),\n",
       " ('t', 'a', 'c', 'o', 'g', 'd'),\n",
       " ('t', 'a', 'c', 'g', 'd', 'o'),\n",
       " ('t', 'a', 'c', 'g', 'o', 'd'),\n",
       " ('t', 'a', 'd', 'c', 'o', 'g'),\n",
       " ('t', 'a', 'd', 'c', 'g', 'o'),\n",
       " ('t', 'a', 'd', 'o', 'c', 'g'),\n",
       " ('t', 'a', 'd', 'o', 'g', 'c'),\n",
       " ('t', 'a', 'd', 'g', 'c', 'o'),\n",
       " ('t', 'a', 'd', 'g', 'o', 'c'),\n",
       " ('t', 'a', 'o', 'c', 'd', 'g'),\n",
       " ('t', 'a', 'o', 'c', 'g', 'd'),\n",
       " ('t', 'a', 'o', 'd', 'c', 'g'),\n",
       " ('t', 'a', 'o', 'd', 'g', 'c'),\n",
       " ('t', 'a', 'o', 'g', 'c', 'd'),\n",
       " ('t', 'a', 'o', 'g', 'd', 'c'),\n",
       " ('t', 'a', 'g', 'c', 'd', 'o'),\n",
       " ('t', 'a', 'g', 'c', 'o', 'd'),\n",
       " ('t', 'a', 'g', 'd', 'c', 'o'),\n",
       " ('t', 'a', 'g', 'd', 'o', 'c'),\n",
       " ('t', 'a', 'g', 'o', 'c', 'd'),\n",
       " ('t', 'a', 'g', 'o', 'd', 'c'),\n",
       " ('t', 'd', 'c', 'a', 'o', 'g'),\n",
       " ('t', 'd', 'c', 'a', 'g', 'o'),\n",
       " ('t', 'd', 'c', 'o', 'a', 'g'),\n",
       " ('t', 'd', 'c', 'o', 'g', 'a'),\n",
       " ('t', 'd', 'c', 'g', 'a', 'o'),\n",
       " ('t', 'd', 'c', 'g', 'o', 'a'),\n",
       " ('t', 'd', 'a', 'c', 'o', 'g'),\n",
       " ('t', 'd', 'a', 'c', 'g', 'o'),\n",
       " ('t', 'd', 'a', 'o', 'c', 'g'),\n",
       " ('t', 'd', 'a', 'o', 'g', 'c'),\n",
       " ('t', 'd', 'a', 'g', 'c', 'o'),\n",
       " ('t', 'd', 'a', 'g', 'o', 'c'),\n",
       " ('t', 'd', 'o', 'c', 'a', 'g'),\n",
       " ('t', 'd', 'o', 'c', 'g', 'a'),\n",
       " ('t', 'd', 'o', 'a', 'c', 'g'),\n",
       " ('t', 'd', 'o', 'a', 'g', 'c'),\n",
       " ('t', 'd', 'o', 'g', 'c', 'a'),\n",
       " ('t', 'd', 'o', 'g', 'a', 'c'),\n",
       " ('t', 'd', 'g', 'c', 'a', 'o'),\n",
       " ('t', 'd', 'g', 'c', 'o', 'a'),\n",
       " ('t', 'd', 'g', 'a', 'c', 'o'),\n",
       " ('t', 'd', 'g', 'a', 'o', 'c'),\n",
       " ('t', 'd', 'g', 'o', 'c', 'a'),\n",
       " ('t', 'd', 'g', 'o', 'a', 'c'),\n",
       " ('t', 'o', 'c', 'a', 'd', 'g'),\n",
       " ('t', 'o', 'c', 'a', 'g', 'd'),\n",
       " ('t', 'o', 'c', 'd', 'a', 'g'),\n",
       " ('t', 'o', 'c', 'd', 'g', 'a'),\n",
       " ('t', 'o', 'c', 'g', 'a', 'd'),\n",
       " ('t', 'o', 'c', 'g', 'd', 'a'),\n",
       " ('t', 'o', 'a', 'c', 'd', 'g'),\n",
       " ('t', 'o', 'a', 'c', 'g', 'd'),\n",
       " ('t', 'o', 'a', 'd', 'c', 'g'),\n",
       " ('t', 'o', 'a', 'd', 'g', 'c'),\n",
       " ('t', 'o', 'a', 'g', 'c', 'd'),\n",
       " ('t', 'o', 'a', 'g', 'd', 'c'),\n",
       " ('t', 'o', 'd', 'c', 'a', 'g'),\n",
       " ('t', 'o', 'd', 'c', 'g', 'a'),\n",
       " ('t', 'o', 'd', 'a', 'c', 'g'),\n",
       " ('t', 'o', 'd', 'a', 'g', 'c'),\n",
       " ('t', 'o', 'd', 'g', 'c', 'a'),\n",
       " ('t', 'o', 'd', 'g', 'a', 'c'),\n",
       " ('t', 'o', 'g', 'c', 'a', 'd'),\n",
       " ('t', 'o', 'g', 'c', 'd', 'a'),\n",
       " ('t', 'o', 'g', 'a', 'c', 'd'),\n",
       " ('t', 'o', 'g', 'a', 'd', 'c'),\n",
       " ('t', 'o', 'g', 'd', 'c', 'a'),\n",
       " ('t', 'o', 'g', 'd', 'a', 'c'),\n",
       " ('t', 'g', 'c', 'a', 'd', 'o'),\n",
       " ('t', 'g', 'c', 'a', 'o', 'd'),\n",
       " ('t', 'g', 'c', 'd', 'a', 'o'),\n",
       " ('t', 'g', 'c', 'd', 'o', 'a'),\n",
       " ('t', 'g', 'c', 'o', 'a', 'd'),\n",
       " ('t', 'g', 'c', 'o', 'd', 'a'),\n",
       " ('t', 'g', 'a', 'c', 'd', 'o'),\n",
       " ('t', 'g', 'a', 'c', 'o', 'd'),\n",
       " ('t', 'g', 'a', 'd', 'c', 'o'),\n",
       " ('t', 'g', 'a', 'd', 'o', 'c'),\n",
       " ('t', 'g', 'a', 'o', 'c', 'd'),\n",
       " ('t', 'g', 'a', 'o', 'd', 'c'),\n",
       " ('t', 'g', 'd', 'c', 'a', 'o'),\n",
       " ('t', 'g', 'd', 'c', 'o', 'a'),\n",
       " ('t', 'g', 'd', 'a', 'c', 'o'),\n",
       " ('t', 'g', 'd', 'a', 'o', 'c'),\n",
       " ('t', 'g', 'd', 'o', 'c', 'a'),\n",
       " ('t', 'g', 'd', 'o', 'a', 'c'),\n",
       " ('t', 'g', 'o', 'c', 'a', 'd'),\n",
       " ('t', 'g', 'o', 'c', 'd', 'a'),\n",
       " ('t', 'g', 'o', 'a', 'c', 'd'),\n",
       " ('t', 'g', 'o', 'a', 'd', 'c'),\n",
       " ('t', 'g', 'o', 'd', 'c', 'a'),\n",
       " ('t', 'g', 'o', 'd', 'a', 'c'),\n",
       " ('d', 'c', 'a', 't', 'o', 'g'),\n",
       " ('d', 'c', 'a', 't', 'g', 'o'),\n",
       " ('d', 'c', 'a', 'o', 't', 'g'),\n",
       " ('d', 'c', 'a', 'o', 'g', 't'),\n",
       " ('d', 'c', 'a', 'g', 't', 'o'),\n",
       " ('d', 'c', 'a', 'g', 'o', 't'),\n",
       " ('d', 'c', 't', 'a', 'o', 'g'),\n",
       " ('d', 'c', 't', 'a', 'g', 'o'),\n",
       " ('d', 'c', 't', 'o', 'a', 'g'),\n",
       " ('d', 'c', 't', 'o', 'g', 'a'),\n",
       " ('d', 'c', 't', 'g', 'a', 'o'),\n",
       " ('d', 'c', 't', 'g', 'o', 'a'),\n",
       " ('d', 'c', 'o', 'a', 't', 'g'),\n",
       " ('d', 'c', 'o', 'a', 'g', 't'),\n",
       " ('d', 'c', 'o', 't', 'a', 'g'),\n",
       " ('d', 'c', 'o', 't', 'g', 'a'),\n",
       " ('d', 'c', 'o', 'g', 'a', 't'),\n",
       " ('d', 'c', 'o', 'g', 't', 'a'),\n",
       " ('d', 'c', 'g', 'a', 't', 'o'),\n",
       " ('d', 'c', 'g', 'a', 'o', 't'),\n",
       " ('d', 'c', 'g', 't', 'a', 'o'),\n",
       " ('d', 'c', 'g', 't', 'o', 'a'),\n",
       " ('d', 'c', 'g', 'o', 'a', 't'),\n",
       " ('d', 'c', 'g', 'o', 't', 'a'),\n",
       " ('d', 'a', 'c', 't', 'o', 'g'),\n",
       " ('d', 'a', 'c', 't', 'g', 'o'),\n",
       " ('d', 'a', 'c', 'o', 't', 'g'),\n",
       " ('d', 'a', 'c', 'o', 'g', 't'),\n",
       " ('d', 'a', 'c', 'g', 't', 'o'),\n",
       " ('d', 'a', 'c', 'g', 'o', 't'),\n",
       " ('d', 'a', 't', 'c', 'o', 'g'),\n",
       " ('d', 'a', 't', 'c', 'g', 'o'),\n",
       " ('d', 'a', 't', 'o', 'c', 'g'),\n",
       " ('d', 'a', 't', 'o', 'g', 'c'),\n",
       " ('d', 'a', 't', 'g', 'c', 'o'),\n",
       " ('d', 'a', 't', 'g', 'o', 'c'),\n",
       " ('d', 'a', 'o', 'c', 't', 'g'),\n",
       " ('d', 'a', 'o', 'c', 'g', 't'),\n",
       " ('d', 'a', 'o', 't', 'c', 'g'),\n",
       " ('d', 'a', 'o', 't', 'g', 'c'),\n",
       " ('d', 'a', 'o', 'g', 'c', 't'),\n",
       " ('d', 'a', 'o', 'g', 't', 'c'),\n",
       " ('d', 'a', 'g', 'c', 't', 'o'),\n",
       " ('d', 'a', 'g', 'c', 'o', 't'),\n",
       " ('d', 'a', 'g', 't', 'c', 'o'),\n",
       " ('d', 'a', 'g', 't', 'o', 'c'),\n",
       " ('d', 'a', 'g', 'o', 'c', 't'),\n",
       " ('d', 'a', 'g', 'o', 't', 'c'),\n",
       " ('d', 't', 'c', 'a', 'o', 'g'),\n",
       " ('d', 't', 'c', 'a', 'g', 'o'),\n",
       " ('d', 't', 'c', 'o', 'a', 'g'),\n",
       " ('d', 't', 'c', 'o', 'g', 'a'),\n",
       " ('d', 't', 'c', 'g', 'a', 'o'),\n",
       " ('d', 't', 'c', 'g', 'o', 'a'),\n",
       " ('d', 't', 'a', 'c', 'o', 'g'),\n",
       " ('d', 't', 'a', 'c', 'g', 'o'),\n",
       " ('d', 't', 'a', 'o', 'c', 'g'),\n",
       " ('d', 't', 'a', 'o', 'g', 'c'),\n",
       " ('d', 't', 'a', 'g', 'c', 'o'),\n",
       " ('d', 't', 'a', 'g', 'o', 'c'),\n",
       " ('d', 't', 'o', 'c', 'a', 'g'),\n",
       " ('d', 't', 'o', 'c', 'g', 'a'),\n",
       " ('d', 't', 'o', 'a', 'c', 'g'),\n",
       " ('d', 't', 'o', 'a', 'g', 'c'),\n",
       " ('d', 't', 'o', 'g', 'c', 'a'),\n",
       " ('d', 't', 'o', 'g', 'a', 'c'),\n",
       " ('d', 't', 'g', 'c', 'a', 'o'),\n",
       " ('d', 't', 'g', 'c', 'o', 'a'),\n",
       " ('d', 't', 'g', 'a', 'c', 'o'),\n",
       " ('d', 't', 'g', 'a', 'o', 'c'),\n",
       " ('d', 't', 'g', 'o', 'c', 'a'),\n",
       " ('d', 't', 'g', 'o', 'a', 'c'),\n",
       " ('d', 'o', 'c', 'a', 't', 'g'),\n",
       " ('d', 'o', 'c', 'a', 'g', 't'),\n",
       " ('d', 'o', 'c', 't', 'a', 'g'),\n",
       " ('d', 'o', 'c', 't', 'g', 'a'),\n",
       " ('d', 'o', 'c', 'g', 'a', 't'),\n",
       " ('d', 'o', 'c', 'g', 't', 'a'),\n",
       " ('d', 'o', 'a', 'c', 't', 'g'),\n",
       " ('d', 'o', 'a', 'c', 'g', 't'),\n",
       " ('d', 'o', 'a', 't', 'c', 'g'),\n",
       " ('d', 'o', 'a', 't', 'g', 'c'),\n",
       " ('d', 'o', 'a', 'g', 'c', 't'),\n",
       " ('d', 'o', 'a', 'g', 't', 'c'),\n",
       " ('d', 'o', 't', 'c', 'a', 'g'),\n",
       " ('d', 'o', 't', 'c', 'g', 'a'),\n",
       " ('d', 'o', 't', 'a', 'c', 'g'),\n",
       " ('d', 'o', 't', 'a', 'g', 'c'),\n",
       " ('d', 'o', 't', 'g', 'c', 'a'),\n",
       " ('d', 'o', 't', 'g', 'a', 'c'),\n",
       " ('d', 'o', 'g', 'c', 'a', 't'),\n",
       " ('d', 'o', 'g', 'c', 't', 'a'),\n",
       " ('d', 'o', 'g', 'a', 'c', 't'),\n",
       " ('d', 'o', 'g', 'a', 't', 'c'),\n",
       " ('d', 'o', 'g', 't', 'c', 'a'),\n",
       " ('d', 'o', 'g', 't', 'a', 'c'),\n",
       " ('d', 'g', 'c', 'a', 't', 'o'),\n",
       " ('d', 'g', 'c', 'a', 'o', 't'),\n",
       " ('d', 'g', 'c', 't', 'a', 'o'),\n",
       " ('d', 'g', 'c', 't', 'o', 'a'),\n",
       " ('d', 'g', 'c', 'o', 'a', 't'),\n",
       " ('d', 'g', 'c', 'o', 't', 'a'),\n",
       " ('d', 'g', 'a', 'c', 't', 'o'),\n",
       " ('d', 'g', 'a', 'c', 'o', 't'),\n",
       " ('d', 'g', 'a', 't', 'c', 'o'),\n",
       " ('d', 'g', 'a', 't', 'o', 'c'),\n",
       " ('d', 'g', 'a', 'o', 'c', 't'),\n",
       " ('d', 'g', 'a', 'o', 't', 'c'),\n",
       " ('d', 'g', 't', 'c', 'a', 'o'),\n",
       " ('d', 'g', 't', 'c', 'o', 'a'),\n",
       " ('d', 'g', 't', 'a', 'c', 'o'),\n",
       " ('d', 'g', 't', 'a', 'o', 'c'),\n",
       " ('d', 'g', 't', 'o', 'c', 'a'),\n",
       " ('d', 'g', 't', 'o', 'a', 'c'),\n",
       " ('d', 'g', 'o', 'c', 'a', 't'),\n",
       " ('d', 'g', 'o', 'c', 't', 'a'),\n",
       " ('d', 'g', 'o', 'a', 'c', 't'),\n",
       " ('d', 'g', 'o', 'a', 't', 'c'),\n",
       " ('d', 'g', 'o', 't', 'c', 'a'),\n",
       " ('d', 'g', 'o', 't', 'a', 'c'),\n",
       " ('o', 'c', 'a', 't', 'd', 'g'),\n",
       " ('o', 'c', 'a', 't', 'g', 'd'),\n",
       " ('o', 'c', 'a', 'd', 't', 'g'),\n",
       " ('o', 'c', 'a', 'd', 'g', 't'),\n",
       " ('o', 'c', 'a', 'g', 't', 'd'),\n",
       " ('o', 'c', 'a', 'g', 'd', 't'),\n",
       " ('o', 'c', 't', 'a', 'd', 'g'),\n",
       " ('o', 'c', 't', 'a', 'g', 'd'),\n",
       " ('o', 'c', 't', 'd', 'a', 'g'),\n",
       " ('o', 'c', 't', 'd', 'g', 'a'),\n",
       " ('o', 'c', 't', 'g', 'a', 'd'),\n",
       " ('o', 'c', 't', 'g', 'd', 'a'),\n",
       " ('o', 'c', 'd', 'a', 't', 'g'),\n",
       " ('o', 'c', 'd', 'a', 'g', 't'),\n",
       " ('o', 'c', 'd', 't', 'a', 'g'),\n",
       " ('o', 'c', 'd', 't', 'g', 'a'),\n",
       " ('o', 'c', 'd', 'g', 'a', 't'),\n",
       " ('o', 'c', 'd', 'g', 't', 'a'),\n",
       " ('o', 'c', 'g', 'a', 't', 'd'),\n",
       " ('o', 'c', 'g', 'a', 'd', 't'),\n",
       " ('o', 'c', 'g', 't', 'a', 'd'),\n",
       " ('o', 'c', 'g', 't', 'd', 'a'),\n",
       " ('o', 'c', 'g', 'd', 'a', 't'),\n",
       " ('o', 'c', 'g', 'd', 't', 'a'),\n",
       " ('o', 'a', 'c', 't', 'd', 'g'),\n",
       " ('o', 'a', 'c', 't', 'g', 'd'),\n",
       " ('o', 'a', 'c', 'd', 't', 'g'),\n",
       " ('o', 'a', 'c', 'd', 'g', 't'),\n",
       " ('o', 'a', 'c', 'g', 't', 'd'),\n",
       " ('o', 'a', 'c', 'g', 'd', 't'),\n",
       " ('o', 'a', 't', 'c', 'd', 'g'),\n",
       " ('o', 'a', 't', 'c', 'g', 'd'),\n",
       " ('o', 'a', 't', 'd', 'c', 'g'),\n",
       " ('o', 'a', 't', 'd', 'g', 'c'),\n",
       " ('o', 'a', 't', 'g', 'c', 'd'),\n",
       " ('o', 'a', 't', 'g', 'd', 'c'),\n",
       " ('o', 'a', 'd', 'c', 't', 'g'),\n",
       " ('o', 'a', 'd', 'c', 'g', 't'),\n",
       " ('o', 'a', 'd', 't', 'c', 'g'),\n",
       " ('o', 'a', 'd', 't', 'g', 'c'),\n",
       " ('o', 'a', 'd', 'g', 'c', 't'),\n",
       " ('o', 'a', 'd', 'g', 't', 'c'),\n",
       " ('o', 'a', 'g', 'c', 't', 'd'),\n",
       " ('o', 'a', 'g', 'c', 'd', 't'),\n",
       " ('o', 'a', 'g', 't', 'c', 'd'),\n",
       " ('o', 'a', 'g', 't', 'd', 'c'),\n",
       " ('o', 'a', 'g', 'd', 'c', 't'),\n",
       " ('o', 'a', 'g', 'd', 't', 'c'),\n",
       " ('o', 't', 'c', 'a', 'd', 'g'),\n",
       " ('o', 't', 'c', 'a', 'g', 'd'),\n",
       " ('o', 't', 'c', 'd', 'a', 'g'),\n",
       " ('o', 't', 'c', 'd', 'g', 'a'),\n",
       " ('o', 't', 'c', 'g', 'a', 'd'),\n",
       " ('o', 't', 'c', 'g', 'd', 'a'),\n",
       " ('o', 't', 'a', 'c', 'd', 'g'),\n",
       " ('o', 't', 'a', 'c', 'g', 'd'),\n",
       " ('o', 't', 'a', 'd', 'c', 'g'),\n",
       " ('o', 't', 'a', 'd', 'g', 'c'),\n",
       " ('o', 't', 'a', 'g', 'c', 'd'),\n",
       " ('o', 't', 'a', 'g', 'd', 'c'),\n",
       " ('o', 't', 'd', 'c', 'a', 'g'),\n",
       " ('o', 't', 'd', 'c', 'g', 'a'),\n",
       " ('o', 't', 'd', 'a', 'c', 'g'),\n",
       " ('o', 't', 'd', 'a', 'g', 'c'),\n",
       " ('o', 't', 'd', 'g', 'c', 'a'),\n",
       " ('o', 't', 'd', 'g', 'a', 'c'),\n",
       " ('o', 't', 'g', 'c', 'a', 'd'),\n",
       " ('o', 't', 'g', 'c', 'd', 'a'),\n",
       " ('o', 't', 'g', 'a', 'c', 'd'),\n",
       " ('o', 't', 'g', 'a', 'd', 'c'),\n",
       " ('o', 't', 'g', 'd', 'c', 'a'),\n",
       " ('o', 't', 'g', 'd', 'a', 'c'),\n",
       " ('o', 'd', 'c', 'a', 't', 'g'),\n",
       " ('o', 'd', 'c', 'a', 'g', 't'),\n",
       " ('o', 'd', 'c', 't', 'a', 'g'),\n",
       " ('o', 'd', 'c', 't', 'g', 'a'),\n",
       " ('o', 'd', 'c', 'g', 'a', 't'),\n",
       " ('o', 'd', 'c', 'g', 't', 'a'),\n",
       " ('o', 'd', 'a', 'c', 't', 'g'),\n",
       " ('o', 'd', 'a', 'c', 'g', 't'),\n",
       " ('o', 'd', 'a', 't', 'c', 'g'),\n",
       " ('o', 'd', 'a', 't', 'g', 'c'),\n",
       " ('o', 'd', 'a', 'g', 'c', 't'),\n",
       " ('o', 'd', 'a', 'g', 't', 'c'),\n",
       " ('o', 'd', 't', 'c', 'a', 'g'),\n",
       " ('o', 'd', 't', 'c', 'g', 'a'),\n",
       " ('o', 'd', 't', 'a', 'c', 'g'),\n",
       " ('o', 'd', 't', 'a', 'g', 'c'),\n",
       " ('o', 'd', 't', 'g', 'c', 'a'),\n",
       " ('o', 'd', 't', 'g', 'a', 'c'),\n",
       " ('o', 'd', 'g', 'c', 'a', 't'),\n",
       " ('o', 'd', 'g', 'c', 't', 'a'),\n",
       " ('o', 'd', 'g', 'a', 'c', 't'),\n",
       " ('o', 'd', 'g', 'a', 't', 'c'),\n",
       " ('o', 'd', 'g', 't', 'c', 'a'),\n",
       " ('o', 'd', 'g', 't', 'a', 'c'),\n",
       " ('o', 'g', 'c', 'a', 't', 'd'),\n",
       " ('o', 'g', 'c', 'a', 'd', 't'),\n",
       " ('o', 'g', 'c', 't', 'a', 'd'),\n",
       " ('o', 'g', 'c', 't', 'd', 'a'),\n",
       " ('o', 'g', 'c', 'd', 'a', 't'),\n",
       " ('o', 'g', 'c', 'd', 't', 'a'),\n",
       " ('o', 'g', 'a', 'c', 't', 'd'),\n",
       " ('o', 'g', 'a', 'c', 'd', 't'),\n",
       " ('o', 'g', 'a', 't', 'c', 'd'),\n",
       " ('o', 'g', 'a', 't', 'd', 'c'),\n",
       " ('o', 'g', 'a', 'd', 'c', 't'),\n",
       " ('o', 'g', 'a', 'd', 't', 'c'),\n",
       " ('o', 'g', 't', 'c', 'a', 'd'),\n",
       " ('o', 'g', 't', 'c', 'd', 'a'),\n",
       " ('o', 'g', 't', 'a', 'c', 'd'),\n",
       " ('o', 'g', 't', 'a', 'd', 'c'),\n",
       " ('o', 'g', 't', 'd', 'c', 'a'),\n",
       " ('o', 'g', 't', 'd', 'a', 'c'),\n",
       " ('o', 'g', 'd', 'c', 'a', 't'),\n",
       " ('o', 'g', 'd', 'c', 't', 'a'),\n",
       " ('o', 'g', 'd', 'a', 'c', 't'),\n",
       " ('o', 'g', 'd', 'a', 't', 'c'),\n",
       " ('o', 'g', 'd', 't', 'c', 'a'),\n",
       " ('o', 'g', 'd', 't', 'a', 'c'),\n",
       " ('g', 'c', 'a', 't', 'd', 'o'),\n",
       " ('g', 'c', 'a', 't', 'o', 'd'),\n",
       " ('g', 'c', 'a', 'd', 't', 'o'),\n",
       " ('g', 'c', 'a', 'd', 'o', 't'),\n",
       " ('g', 'c', 'a', 'o', 't', 'd'),\n",
       " ('g', 'c', 'a', 'o', 'd', 't'),\n",
       " ('g', 'c', 't', 'a', 'd', 'o'),\n",
       " ('g', 'c', 't', 'a', 'o', 'd'),\n",
       " ('g', 'c', 't', 'd', 'a', 'o'),\n",
       " ('g', 'c', 't', 'd', 'o', 'a'),\n",
       " ('g', 'c', 't', 'o', 'a', 'd'),\n",
       " ('g', 'c', 't', 'o', 'd', 'a'),\n",
       " ('g', 'c', 'd', 'a', 't', 'o'),\n",
       " ('g', 'c', 'd', 'a', 'o', 't'),\n",
       " ('g', 'c', 'd', 't', 'a', 'o'),\n",
       " ('g', 'c', 'd', 't', 'o', 'a'),\n",
       " ('g', 'c', 'd', 'o', 'a', 't'),\n",
       " ('g', 'c', 'd', 'o', 't', 'a'),\n",
       " ('g', 'c', 'o', 'a', 't', 'd'),\n",
       " ('g', 'c', 'o', 'a', 'd', 't'),\n",
       " ('g', 'c', 'o', 't', 'a', 'd'),\n",
       " ('g', 'c', 'o', 't', 'd', 'a'),\n",
       " ('g', 'c', 'o', 'd', 'a', 't'),\n",
       " ('g', 'c', 'o', 'd', 't', 'a'),\n",
       " ('g', 'a', 'c', 't', 'd', 'o'),\n",
       " ('g', 'a', 'c', 't', 'o', 'd'),\n",
       " ('g', 'a', 'c', 'd', 't', 'o'),\n",
       " ('g', 'a', 'c', 'd', 'o', 't'),\n",
       " ('g', 'a', 'c', 'o', 't', 'd'),\n",
       " ('g', 'a', 'c', 'o', 'd', 't'),\n",
       " ('g', 'a', 't', 'c', 'd', 'o'),\n",
       " ('g', 'a', 't', 'c', 'o', 'd'),\n",
       " ('g', 'a', 't', 'd', 'c', 'o'),\n",
       " ('g', 'a', 't', 'd', 'o', 'c'),\n",
       " ('g', 'a', 't', 'o', 'c', 'd'),\n",
       " ('g', 'a', 't', 'o', 'd', 'c'),\n",
       " ('g', 'a', 'd', 'c', 't', 'o'),\n",
       " ('g', 'a', 'd', 'c', 'o', 't'),\n",
       " ('g', 'a', 'd', 't', 'c', 'o'),\n",
       " ('g', 'a', 'd', 't', 'o', 'c'),\n",
       " ('g', 'a', 'd', 'o', 'c', 't'),\n",
       " ('g', 'a', 'd', 'o', 't', 'c'),\n",
       " ('g', 'a', 'o', 'c', 't', 'd'),\n",
       " ('g', 'a', 'o', 'c', 'd', 't'),\n",
       " ('g', 'a', 'o', 't', 'c', 'd'),\n",
       " ('g', 'a', 'o', 't', 'd', 'c'),\n",
       " ('g', 'a', 'o', 'd', 'c', 't'),\n",
       " ('g', 'a', 'o', 'd', 't', 'c'),\n",
       " ('g', 't', 'c', 'a', 'd', 'o'),\n",
       " ('g', 't', 'c', 'a', 'o', 'd'),\n",
       " ('g', 't', 'c', 'd', 'a', 'o'),\n",
       " ('g', 't', 'c', 'd', 'o', 'a'),\n",
       " ('g', 't', 'c', 'o', 'a', 'd'),\n",
       " ('g', 't', 'c', 'o', 'd', 'a'),\n",
       " ('g', 't', 'a', 'c', 'd', 'o'),\n",
       " ('g', 't', 'a', 'c', 'o', 'd'),\n",
       " ('g', 't', 'a', 'd', 'c', 'o'),\n",
       " ('g', 't', 'a', 'd', 'o', 'c'),\n",
       " ('g', 't', 'a', 'o', 'c', 'd'),\n",
       " ('g', 't', 'a', 'o', 'd', 'c'),\n",
       " ('g', 't', 'd', 'c', 'a', 'o'),\n",
       " ('g', 't', 'd', 'c', 'o', 'a'),\n",
       " ('g', 't', 'd', 'a', 'c', 'o'),\n",
       " ('g', 't', 'd', 'a', 'o', 'c'),\n",
       " ('g', 't', 'd', 'o', 'c', 'a'),\n",
       " ('g', 't', 'd', 'o', 'a', 'c'),\n",
       " ('g', 't', 'o', 'c', 'a', 'd'),\n",
       " ('g', 't', 'o', 'c', 'd', 'a'),\n",
       " ('g', 't', 'o', 'a', 'c', 'd'),\n",
       " ('g', 't', 'o', 'a', 'd', 'c'),\n",
       " ('g', 't', 'o', 'd', 'c', 'a'),\n",
       " ('g', 't', 'o', 'd', 'a', 'c'),\n",
       " ('g', 'd', 'c', 'a', 't', 'o'),\n",
       " ('g', 'd', 'c', 'a', 'o', 't'),\n",
       " ('g', 'd', 'c', 't', 'a', 'o'),\n",
       " ('g', 'd', 'c', 't', 'o', 'a'),\n",
       " ('g', 'd', 'c', 'o', 'a', 't'),\n",
       " ('g', 'd', 'c', 'o', 't', 'a'),\n",
       " ('g', 'd', 'a', 'c', 't', 'o'),\n",
       " ('g', 'd', 'a', 'c', 'o', 't'),\n",
       " ('g', 'd', 'a', 't', 'c', 'o'),\n",
       " ('g', 'd', 'a', 't', 'o', 'c'),\n",
       " ('g', 'd', 'a', 'o', 'c', 't'),\n",
       " ('g', 'd', 'a', 'o', 't', 'c'),\n",
       " ('g', 'd', 't', 'c', 'a', 'o'),\n",
       " ('g', 'd', 't', 'c', 'o', 'a'),\n",
       " ('g', 'd', 't', 'a', 'c', 'o'),\n",
       " ('g', 'd', 't', 'a', 'o', 'c'),\n",
       " ('g', 'd', 't', 'o', 'c', 'a'),\n",
       " ('g', 'd', 't', 'o', 'a', 'c'),\n",
       " ('g', 'd', 'o', 'c', 'a', 't'),\n",
       " ('g', 'd', 'o', 'c', 't', 'a'),\n",
       " ('g', 'd', 'o', 'a', 'c', 't'),\n",
       " ('g', 'd', 'o', 'a', 't', 'c'),\n",
       " ('g', 'd', 'o', 't', 'c', 'a'),\n",
       " ('g', 'd', 'o', 't', 'a', 'c'),\n",
       " ('g', 'o', 'c', 'a', 't', 'd'),\n",
       " ('g', 'o', 'c', 'a', 'd', 't'),\n",
       " ('g', 'o', 'c', 't', 'a', 'd'),\n",
       " ('g', 'o', 'c', 't', 'd', 'a'),\n",
       " ('g', 'o', 'c', 'd', 'a', 't'),\n",
       " ('g', 'o', 'c', 'd', 't', 'a'),\n",
       " ('g', 'o', 'a', 'c', 't', 'd'),\n",
       " ('g', 'o', 'a', 'c', 'd', 't'),\n",
       " ('g', 'o', 'a', 't', 'c', 'd'),\n",
       " ('g', 'o', 'a', 't', 'd', 'c'),\n",
       " ('g', 'o', 'a', 'd', 'c', 't'),\n",
       " ('g', 'o', 'a', 'd', 't', 'c'),\n",
       " ('g', 'o', 't', 'c', 'a', 'd'),\n",
       " ('g', 'o', 't', 'c', 'd', 'a'),\n",
       " ('g', 'o', 't', 'a', 'c', 'd'),\n",
       " ('g', 'o', 't', 'a', 'd', 'c'),\n",
       " ('g', 'o', 't', 'd', 'c', 'a'),\n",
       " ('g', 'o', 't', 'd', 'a', 'c'),\n",
       " ('g', 'o', 'd', 'c', 'a', 't'),\n",
       " ('g', 'o', 'd', 'c', 't', 'a'),\n",
       " ('g', 'o', 'd', 'a', 'c', 't'),\n",
       " ('g', 'o', 'd', 'a', 't', 'c'),\n",
       " ('g', 'o', 'd', 't', 'c', 'a'),\n",
       " ('g', 'o', 'd', 't', 'a', 'c')]"
      ]
     },
     "execution_count": 16,
     "metadata": {},
     "output_type": "execute_result"
    }
   ],
   "source": [
    "import itertools \n",
    "list(itertools.permutations(['c','a' ,'t', 'd','o','g']))"
   ]
  },
  {
   "cell_type": "markdown",
   "metadata": {},
   "source": [
    "# P 1.30"
   ]
  },
  {
   "cell_type": "code",
   "execution_count": 17,
   "metadata": {},
   "outputs": [
    {
     "name": "stdout",
     "output_type": "stream",
     "text": [
      "input an integer:10\n",
      "Need 3 times to divide\n"
     ]
    }
   ],
   "source": [
    "from math import floor, log2\n",
    "\n",
    "\n",
    "if __name__ == '__main__':\n",
    "    n = int(input(\"input an integer:\"))\n",
    "    assert n > 2\n",
    "    print(\"Need {} times to divide\".format(int(floor(log2(n)))))"
   ]
  },
  {
   "cell_type": "code",
   "execution_count": null,
   "metadata": {},
   "outputs": [],
   "source": []
  }
 ],
 "metadata": {
  "kernelspec": {
   "display_name": "Python 3",
   "language": "python",
   "name": "python3"
  },
  "language_info": {
   "codemirror_mode": {
    "name": "ipython",
    "version": 3
   },
   "file_extension": ".py",
   "mimetype": "text/x-python",
   "name": "python",
   "nbconvert_exporter": "python",
   "pygments_lexer": "ipython3",
   "version": "3.7.0"
  }
 },
 "nbformat": 4,
 "nbformat_minor": 2
}
